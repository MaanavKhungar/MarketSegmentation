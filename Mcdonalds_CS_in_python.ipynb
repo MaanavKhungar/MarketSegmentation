{
  "nbformat": 4,
  "nbformat_minor": 0,
  "metadata": {
    "colab": {
      "provenance": [],
      "authorship_tag": "ABX9TyOMZAPeV/Ohh2Y8k8HO+cHt",
      "include_colab_link": true
    },
    "kernelspec": {
      "name": "python3",
      "display_name": "Python 3"
    },
    "language_info": {
      "name": "python"
    }
  },
  "cells": [
    {
      "cell_type": "markdown",
      "metadata": {
        "id": "view-in-github",
        "colab_type": "text"
      },
      "source": [
        "<a href=\"https://colab.research.google.com/github/MaanavKhungar/MarketSegmentation/blob/master/Mcdonalds_CS_in_python.ipynb\" target=\"_parent\"><img src=\"https://colab.research.google.com/assets/colab-badge.svg\" alt=\"Open In Colab\"/></a>"
      ]
    },
    {
      "cell_type": "code",
      "execution_count": 2,
      "metadata": {
        "id": "4gINly3_DL2E",
        "colab": {
          "base_uri": "https://localhost:8080/"
        },
        "outputId": "68e64bdf-f69d-4a41-e985-f01d4708ce8f"
      },
      "outputs": [
        {
          "output_type": "stream",
          "name": "stdout",
          "text": [
            "Mounted at /content/drive\n"
          ]
        }
      ],
      "source": [
        "from google.colab import drive\n",
        "drive.mount('/content/drive')"
      ]
    },
    {
      "cell_type": "code",
      "source": [
        "import matplotlib.pyplot as plt\n",
        "import pandas as pd\n",
        "import numpy as np\n",
        "import seaborn as sns\n",
        "from sklearn.preprocessing import LabelEncoder\n",
        "import tensorflow as tf\n",
        "from sklearn import metrics\n",
        "from sklearn.metrics import classification_report\n",
        "from sklearn.metrics import confusion_matrix\n",
        "from sklearn.metrics import accuracy_score\n",
        "from sklearn.model_selection import train_test_split\n",
        "from sklearn.metrics import mean_squared_error\n",
        "from sklearn.metrics import f1_score\n",
        "from sklearn.model_selection import KFold\n",
        "from sklearn.model_selection import cross_val_score\n",
        "from sklearn.neighbors import KNeighborsClassifier\n",
        "from sklearn.naive_bayes import GaussianNB,BernoulliNB\n",
        "from sklearn.tree import DecisionTreeClassifier\n",
        "from sklearn.svm import SVC\n",
        "from sklearn.preprocessing import OneHotEncoder\n",
        "from statsmodels.graphics.mosaicplot import mosaic\n",
        "\n",
        "from sklearn.decomposition import PCA\n",
        "\n",
        "np.random.seed(0)\n"
      ],
      "metadata": {
        "id": "Ok0MhjvNFG-f"
      },
      "execution_count": 3,
      "outputs": []
    },
    {
      "cell_type": "code",
      "source": [
        "mcd = pd.read_csv(\"/content/drive/MyDrive/ML/Mcd_case_study/mcdonalds.csv\")"
      ],
      "metadata": {
        "id": "rlAsuUEUE4pK"
      },
      "execution_count": 4,
      "outputs": []
    },
    {
      "cell_type": "code",
      "source": [
        "mcd"
      ],
      "metadata": {
        "colab": {
          "base_uri": "https://localhost:8080/",
          "height": 423
        },
        "id": "QaalmKlKFh2-",
        "outputId": "e45cb4fd-c2d8-44cb-8b8a-7871576050d2"
      },
      "execution_count": 5,
      "outputs": [
        {
          "output_type": "execute_result",
          "data": {
            "text/plain": [
              "     yummy convenient spicy fattening greasy fast cheap tasty expensive  \\\n",
              "0       No        Yes    No       Yes     No  Yes   Yes    No       Yes   \n",
              "1      Yes        Yes    No       Yes    Yes  Yes   Yes   Yes       Yes   \n",
              "2       No        Yes   Yes       Yes    Yes  Yes    No   Yes       Yes   \n",
              "3      Yes        Yes    No       Yes    Yes  Yes   Yes   Yes        No   \n",
              "4       No        Yes    No       Yes    Yes  Yes   Yes    No        No   \n",
              "...    ...        ...   ...       ...    ...  ...   ...   ...       ...   \n",
              "1448    No        Yes    No       Yes    Yes   No    No    No       Yes   \n",
              "1449   Yes        Yes    No       Yes     No   No   Yes   Yes        No   \n",
              "1450   Yes        Yes    No       Yes     No  Yes    No   Yes       Yes   \n",
              "1451   Yes        Yes    No        No     No  Yes   Yes   Yes        No   \n",
              "1452    No        Yes    No       Yes    Yes   No    No    No       Yes   \n",
              "\n",
              "     healthy disgusting          Like  Age      VisitFrequency  Gender  \n",
              "0         No         No            -3   61  Every three months  Female  \n",
              "1         No         No            +2   51  Every three months  Female  \n",
              "2        Yes         No            +1   62  Every three months  Female  \n",
              "3         No        Yes            +4   69         Once a week  Female  \n",
              "4        Yes         No            +2   49        Once a month    Male  \n",
              "...      ...        ...           ...  ...                 ...     ...  \n",
              "1448      No        Yes  I hate it!-5   47         Once a year    Male  \n",
              "1449     Yes         No            +2   36         Once a week  Female  \n",
              "1450      No         No            +3   52        Once a month  Female  \n",
              "1451     Yes         No            +4   41  Every three months    Male  \n",
              "1452      No        Yes            -3   30  Every three months    Male  \n",
              "\n",
              "[1453 rows x 15 columns]"
            ],
            "text/html": [
              "\n",
              "  <div id=\"df-477a7333-ba84-4600-89c4-4207e1a9e568\">\n",
              "    <div class=\"colab-df-container\">\n",
              "      <div>\n",
              "<style scoped>\n",
              "    .dataframe tbody tr th:only-of-type {\n",
              "        vertical-align: middle;\n",
              "    }\n",
              "\n",
              "    .dataframe tbody tr th {\n",
              "        vertical-align: top;\n",
              "    }\n",
              "\n",
              "    .dataframe thead th {\n",
              "        text-align: right;\n",
              "    }\n",
              "</style>\n",
              "<table border=\"1\" class=\"dataframe\">\n",
              "  <thead>\n",
              "    <tr style=\"text-align: right;\">\n",
              "      <th></th>\n",
              "      <th>yummy</th>\n",
              "      <th>convenient</th>\n",
              "      <th>spicy</th>\n",
              "      <th>fattening</th>\n",
              "      <th>greasy</th>\n",
              "      <th>fast</th>\n",
              "      <th>cheap</th>\n",
              "      <th>tasty</th>\n",
              "      <th>expensive</th>\n",
              "      <th>healthy</th>\n",
              "      <th>disgusting</th>\n",
              "      <th>Like</th>\n",
              "      <th>Age</th>\n",
              "      <th>VisitFrequency</th>\n",
              "      <th>Gender</th>\n",
              "    </tr>\n",
              "  </thead>\n",
              "  <tbody>\n",
              "    <tr>\n",
              "      <th>0</th>\n",
              "      <td>No</td>\n",
              "      <td>Yes</td>\n",
              "      <td>No</td>\n",
              "      <td>Yes</td>\n",
              "      <td>No</td>\n",
              "      <td>Yes</td>\n",
              "      <td>Yes</td>\n",
              "      <td>No</td>\n",
              "      <td>Yes</td>\n",
              "      <td>No</td>\n",
              "      <td>No</td>\n",
              "      <td>-3</td>\n",
              "      <td>61</td>\n",
              "      <td>Every three months</td>\n",
              "      <td>Female</td>\n",
              "    </tr>\n",
              "    <tr>\n",
              "      <th>1</th>\n",
              "      <td>Yes</td>\n",
              "      <td>Yes</td>\n",
              "      <td>No</td>\n",
              "      <td>Yes</td>\n",
              "      <td>Yes</td>\n",
              "      <td>Yes</td>\n",
              "      <td>Yes</td>\n",
              "      <td>Yes</td>\n",
              "      <td>Yes</td>\n",
              "      <td>No</td>\n",
              "      <td>No</td>\n",
              "      <td>+2</td>\n",
              "      <td>51</td>\n",
              "      <td>Every three months</td>\n",
              "      <td>Female</td>\n",
              "    </tr>\n",
              "    <tr>\n",
              "      <th>2</th>\n",
              "      <td>No</td>\n",
              "      <td>Yes</td>\n",
              "      <td>Yes</td>\n",
              "      <td>Yes</td>\n",
              "      <td>Yes</td>\n",
              "      <td>Yes</td>\n",
              "      <td>No</td>\n",
              "      <td>Yes</td>\n",
              "      <td>Yes</td>\n",
              "      <td>Yes</td>\n",
              "      <td>No</td>\n",
              "      <td>+1</td>\n",
              "      <td>62</td>\n",
              "      <td>Every three months</td>\n",
              "      <td>Female</td>\n",
              "    </tr>\n",
              "    <tr>\n",
              "      <th>3</th>\n",
              "      <td>Yes</td>\n",
              "      <td>Yes</td>\n",
              "      <td>No</td>\n",
              "      <td>Yes</td>\n",
              "      <td>Yes</td>\n",
              "      <td>Yes</td>\n",
              "      <td>Yes</td>\n",
              "      <td>Yes</td>\n",
              "      <td>No</td>\n",
              "      <td>No</td>\n",
              "      <td>Yes</td>\n",
              "      <td>+4</td>\n",
              "      <td>69</td>\n",
              "      <td>Once a week</td>\n",
              "      <td>Female</td>\n",
              "    </tr>\n",
              "    <tr>\n",
              "      <th>4</th>\n",
              "      <td>No</td>\n",
              "      <td>Yes</td>\n",
              "      <td>No</td>\n",
              "      <td>Yes</td>\n",
              "      <td>Yes</td>\n",
              "      <td>Yes</td>\n",
              "      <td>Yes</td>\n",
              "      <td>No</td>\n",
              "      <td>No</td>\n",
              "      <td>Yes</td>\n",
              "      <td>No</td>\n",
              "      <td>+2</td>\n",
              "      <td>49</td>\n",
              "      <td>Once a month</td>\n",
              "      <td>Male</td>\n",
              "    </tr>\n",
              "    <tr>\n",
              "      <th>...</th>\n",
              "      <td>...</td>\n",
              "      <td>...</td>\n",
              "      <td>...</td>\n",
              "      <td>...</td>\n",
              "      <td>...</td>\n",
              "      <td>...</td>\n",
              "      <td>...</td>\n",
              "      <td>...</td>\n",
              "      <td>...</td>\n",
              "      <td>...</td>\n",
              "      <td>...</td>\n",
              "      <td>...</td>\n",
              "      <td>...</td>\n",
              "      <td>...</td>\n",
              "      <td>...</td>\n",
              "    </tr>\n",
              "    <tr>\n",
              "      <th>1448</th>\n",
              "      <td>No</td>\n",
              "      <td>Yes</td>\n",
              "      <td>No</td>\n",
              "      <td>Yes</td>\n",
              "      <td>Yes</td>\n",
              "      <td>No</td>\n",
              "      <td>No</td>\n",
              "      <td>No</td>\n",
              "      <td>Yes</td>\n",
              "      <td>No</td>\n",
              "      <td>Yes</td>\n",
              "      <td>I hate it!-5</td>\n",
              "      <td>47</td>\n",
              "      <td>Once a year</td>\n",
              "      <td>Male</td>\n",
              "    </tr>\n",
              "    <tr>\n",
              "      <th>1449</th>\n",
              "      <td>Yes</td>\n",
              "      <td>Yes</td>\n",
              "      <td>No</td>\n",
              "      <td>Yes</td>\n",
              "      <td>No</td>\n",
              "      <td>No</td>\n",
              "      <td>Yes</td>\n",
              "      <td>Yes</td>\n",
              "      <td>No</td>\n",
              "      <td>Yes</td>\n",
              "      <td>No</td>\n",
              "      <td>+2</td>\n",
              "      <td>36</td>\n",
              "      <td>Once a week</td>\n",
              "      <td>Female</td>\n",
              "    </tr>\n",
              "    <tr>\n",
              "      <th>1450</th>\n",
              "      <td>Yes</td>\n",
              "      <td>Yes</td>\n",
              "      <td>No</td>\n",
              "      <td>Yes</td>\n",
              "      <td>No</td>\n",
              "      <td>Yes</td>\n",
              "      <td>No</td>\n",
              "      <td>Yes</td>\n",
              "      <td>Yes</td>\n",
              "      <td>No</td>\n",
              "      <td>No</td>\n",
              "      <td>+3</td>\n",
              "      <td>52</td>\n",
              "      <td>Once a month</td>\n",
              "      <td>Female</td>\n",
              "    </tr>\n",
              "    <tr>\n",
              "      <th>1451</th>\n",
              "      <td>Yes</td>\n",
              "      <td>Yes</td>\n",
              "      <td>No</td>\n",
              "      <td>No</td>\n",
              "      <td>No</td>\n",
              "      <td>Yes</td>\n",
              "      <td>Yes</td>\n",
              "      <td>Yes</td>\n",
              "      <td>No</td>\n",
              "      <td>Yes</td>\n",
              "      <td>No</td>\n",
              "      <td>+4</td>\n",
              "      <td>41</td>\n",
              "      <td>Every three months</td>\n",
              "      <td>Male</td>\n",
              "    </tr>\n",
              "    <tr>\n",
              "      <th>1452</th>\n",
              "      <td>No</td>\n",
              "      <td>Yes</td>\n",
              "      <td>No</td>\n",
              "      <td>Yes</td>\n",
              "      <td>Yes</td>\n",
              "      <td>No</td>\n",
              "      <td>No</td>\n",
              "      <td>No</td>\n",
              "      <td>Yes</td>\n",
              "      <td>No</td>\n",
              "      <td>Yes</td>\n",
              "      <td>-3</td>\n",
              "      <td>30</td>\n",
              "      <td>Every three months</td>\n",
              "      <td>Male</td>\n",
              "    </tr>\n",
              "  </tbody>\n",
              "</table>\n",
              "<p>1453 rows × 15 columns</p>\n",
              "</div>\n",
              "      <button class=\"colab-df-convert\" onclick=\"convertToInteractive('df-477a7333-ba84-4600-89c4-4207e1a9e568')\"\n",
              "              title=\"Convert this dataframe to an interactive table.\"\n",
              "              style=\"display:none;\">\n",
              "        \n",
              "  <svg xmlns=\"http://www.w3.org/2000/svg\" height=\"24px\"viewBox=\"0 0 24 24\"\n",
              "       width=\"24px\">\n",
              "    <path d=\"M0 0h24v24H0V0z\" fill=\"none\"/>\n",
              "    <path d=\"M18.56 5.44l.94 2.06.94-2.06 2.06-.94-2.06-.94-.94-2.06-.94 2.06-2.06.94zm-11 1L8.5 8.5l.94-2.06 2.06-.94-2.06-.94L8.5 2.5l-.94 2.06-2.06.94zm10 10l.94 2.06.94-2.06 2.06-.94-2.06-.94-.94-2.06-.94 2.06-2.06.94z\"/><path d=\"M17.41 7.96l-1.37-1.37c-.4-.4-.92-.59-1.43-.59-.52 0-1.04.2-1.43.59L10.3 9.45l-7.72 7.72c-.78.78-.78 2.05 0 2.83L4 21.41c.39.39.9.59 1.41.59.51 0 1.02-.2 1.41-.59l7.78-7.78 2.81-2.81c.8-.78.8-2.07 0-2.86zM5.41 20L4 18.59l7.72-7.72 1.47 1.35L5.41 20z\"/>\n",
              "  </svg>\n",
              "      </button>\n",
              "      \n",
              "  <style>\n",
              "    .colab-df-container {\n",
              "      display:flex;\n",
              "      flex-wrap:wrap;\n",
              "      gap: 12px;\n",
              "    }\n",
              "\n",
              "    .colab-df-convert {\n",
              "      background-color: #E8F0FE;\n",
              "      border: none;\n",
              "      border-radius: 50%;\n",
              "      cursor: pointer;\n",
              "      display: none;\n",
              "      fill: #1967D2;\n",
              "      height: 32px;\n",
              "      padding: 0 0 0 0;\n",
              "      width: 32px;\n",
              "    }\n",
              "\n",
              "    .colab-df-convert:hover {\n",
              "      background-color: #E2EBFA;\n",
              "      box-shadow: 0px 1px 2px rgba(60, 64, 67, 0.3), 0px 1px 3px 1px rgba(60, 64, 67, 0.15);\n",
              "      fill: #174EA6;\n",
              "    }\n",
              "\n",
              "    [theme=dark] .colab-df-convert {\n",
              "      background-color: #3B4455;\n",
              "      fill: #D2E3FC;\n",
              "    }\n",
              "\n",
              "    [theme=dark] .colab-df-convert:hover {\n",
              "      background-color: #434B5C;\n",
              "      box-shadow: 0px 1px 3px 1px rgba(0, 0, 0, 0.15);\n",
              "      filter: drop-shadow(0px 1px 2px rgba(0, 0, 0, 0.3));\n",
              "      fill: #FFFFFF;\n",
              "    }\n",
              "  </style>\n",
              "\n",
              "      <script>\n",
              "        const buttonEl =\n",
              "          document.querySelector('#df-477a7333-ba84-4600-89c4-4207e1a9e568 button.colab-df-convert');\n",
              "        buttonEl.style.display =\n",
              "          google.colab.kernel.accessAllowed ? 'block' : 'none';\n",
              "\n",
              "        async function convertToInteractive(key) {\n",
              "          const element = document.querySelector('#df-477a7333-ba84-4600-89c4-4207e1a9e568');\n",
              "          const dataTable =\n",
              "            await google.colab.kernel.invokeFunction('convertToInteractive',\n",
              "                                                     [key], {});\n",
              "          if (!dataTable) return;\n",
              "\n",
              "          const docLinkHtml = 'Like what you see? Visit the ' +\n",
              "            '<a target=\"_blank\" href=https://colab.research.google.com/notebooks/data_table.ipynb>data table notebook</a>'\n",
              "            + ' to learn more about interactive tables.';\n",
              "          element.innerHTML = '';\n",
              "          dataTable['output_type'] = 'display_data';\n",
              "          await google.colab.output.renderOutput(dataTable, element);\n",
              "          const docLink = document.createElement('div');\n",
              "          docLink.innerHTML = docLinkHtml;\n",
              "          element.appendChild(docLink);\n",
              "        }\n",
              "      </script>\n",
              "    </div>\n",
              "  </div>\n",
              "  "
            ]
          },
          "metadata": {},
          "execution_count": 5
        }
      ]
    },
    {
      "cell_type": "code",
      "source": [
        "mcd.columns\n",
        "mcd.shape\n",
        "features = mcd.columns[:11]"
      ],
      "metadata": {
        "id": "EnXLFa2gGyyh"
      },
      "execution_count": 6,
      "outputs": []
    },
    {
      "cell_type": "code",
      "source": [
        "attrBool = mcd.iloc[:,:11]"
      ],
      "metadata": {
        "id": "30TtaaewQbsi"
      },
      "execution_count": 7,
      "outputs": []
    },
    {
      "cell_type": "code",
      "source": [
        "attr = attrBool.replace([\"No\",\"Yes\"],[0,1])\n",
        "attr.mean().round(2)"
      ],
      "metadata": {
        "colab": {
          "base_uri": "https://localhost:8080/"
        },
        "id": "FXW6Z_POT1_p",
        "outputId": "a0756e38-060d-48f9-b9c5-97eefa53a056"
      },
      "execution_count": 8,
      "outputs": [
        {
          "output_type": "execute_result",
          "data": {
            "text/plain": [
              "yummy         0.55\n",
              "convenient    0.91\n",
              "spicy         0.09\n",
              "fattening     0.87\n",
              "greasy        0.53\n",
              "fast          0.90\n",
              "cheap         0.60\n",
              "tasty         0.64\n",
              "expensive     0.36\n",
              "healthy       0.20\n",
              "disgusting    0.24\n",
              "dtype: float64"
            ]
          },
          "metadata": {},
          "execution_count": 8
        }
      ]
    },
    {
      "cell_type": "code",
      "source": [
        "attr_pca = PCA().fit(attr)\n",
        "\n",
        "print(pd.DataFrame({'Standard deviation': np.sqrt(attr_pca.explained_variance_),\n",
        "              'Proportion of variance': attr_pca.explained_variance_ratio_,\n",
        "              'Cumulative proportion': np.cumsum(attr_pca.explained_variance_ratio_)}))\n"
      ],
      "metadata": {
        "colab": {
          "base_uri": "https://localhost:8080/"
        },
        "id": "G0TZYIkgVUg0",
        "outputId": "49b8a519-b9c3-42fc-b052-47e93647c255"
      },
      "execution_count": 10,
      "outputs": [
        {
          "output_type": "stream",
          "name": "stdout",
          "text": [
            "    Standard deviation  Proportion of variance  Cumulative proportion\n",
            "0             0.757050                0.299447               0.299447\n",
            "1             0.607456                0.192797               0.492244\n",
            "2             0.504619                0.133045               0.625290\n",
            "3             0.398799                0.083096               0.708386\n",
            "4             0.337405                0.059481               0.767866\n",
            "5             0.310275                0.050300               0.818166\n",
            "6             0.289697                0.043849               0.862015\n",
            "7             0.275122                0.039548               0.901563\n",
            "8             0.265251                0.036761               0.938323\n",
            "9             0.248842                0.032353               0.970677\n",
            "10            0.236903                0.029323               1.000000\n"
          ]
        }
      ]
    },
    {
      "cell_type": "code",
      "source": [
        "pca = PCA(n_components=2)\n",
        "components = pca.fit_transform(attr)"
      ],
      "metadata": {
        "id": "j-_Yr5VzuvSu"
      },
      "execution_count": 11,
      "outputs": []
    },
    {
      "cell_type": "code",
      "source": [
        "pca_df = pd.DataFrame(\n",
        "    data=components, \n",
        "    columns=['PC1', 'PC2'])"
      ],
      "metadata": {
        "id": "Csi4KlS1wqo8"
      },
      "execution_count": 12,
      "outputs": []
    },
    {
      "cell_type": "code",
      "source": [
        "import matplotlib.pyplot as plt \n",
        "import seaborn as sns\n",
        "sns.set()\n",
        " \n",
        "sns.lmplot(\n",
        "    x='PC1', \n",
        "    y='PC2', \n",
        "    data=pca_df, \n",
        "    fit_reg=False, \n",
        "    legend=True\n",
        "    )\n",
        " \n",
        "plt.title('2D PCA Graph')\n",
        "plt.show()"
      ],
      "metadata": {
        "colab": {
          "base_uri": "https://localhost:8080/",
          "height": 381
        },
        "id": "mO4CJbVAvf69",
        "outputId": "8ffb6b89-4e64-4b89-842d-f0a5ba42d1c0"
      },
      "execution_count": 13,
      "outputs": [
        {
          "output_type": "display_data",
          "data": {
            "text/plain": [
              "<Figure size 360x360 with 1 Axes>"
            ],
            "image/png": "[encoded data removed]"
          },
          "metadata": {}
        }
      ]
    },
    {
      "cell_type": "code",
      "source": [
        "loadings = pca.components_\n",
        "pca_df_scaled = pca_df.copy()\n",
        "xs = loadings[0]\n",
        "ys = loadings[1]\n",
        " \n",
        "scaler_df = pca_df[['PC1', 'PC2']]\n",
        "scaler = 1 / (scaler_df.max() - scaler_df.min())\n",
        " \n",
        "for index in scaler.index:\n",
        "    pca_df_scaled[index] *= scaler[index]\n",
        " \n",
        "sns.lmplot(\n",
        "    x='PC1', \n",
        "    y='PC2', \n",
        "    data=pca_df_scaled, \n",
        "    fit_reg=False, \n",
        "    )\n",
        "\n",
        "for i, varnames in enumerate(features):\n",
        "    # plt.scatter(xs[i], ys[i], s=200)\n",
        "    plt.arrow(\n",
        "        0, 0, # coordinates of arrow base\n",
        "        xs[i], # length of the arrow along x\n",
        "        ys[i], # length of the arrow along y\n",
        "        color='r', \n",
        "        head_width=0.01\n",
        "        )\n",
        "    plt.text(xs[i], ys[i], varnames)\n",
        "plt.title('2D Biplot')\n",
        "plt.show()"
      ],
      "metadata": {
        "colab": {
          "base_uri": "https://localhost:8080/",
          "height": 377
        },
        "id": "VuR3ALzwyJn6",
        "outputId": "1f225959-3ef9-4ba5-89a4-db4e5e3c492c"
      },
      "execution_count": 15,
      "outputs": [
        {
          "output_type": "display_data",
          "data": {
            "text/plain": [
              "<Figure size 360x360 with 1 Axes>"
            ],
            "image/png": "[encoded data removed]"
          },
          "metadata": {}
        }
      ]
    },
    {
      "cell_type": "code",
      "source": [
        "loadings"
      ],
      "metadata": {
        "colab": {
          "base_uri": "https://localhost:8080/"
        },
        "id": "2EJPt5aiyTSo",
        "outputId": "457600fc-2439-4250-89ca-c07fc47ff6de"
      },
      "execution_count": 23,
      "outputs": [
        {
          "output_type": "execute_result",
          "data": {
            "text/plain": [
              "array([[-0.47693349, -0.15533159, -0.00635636,  0.11623168,  0.3044427 ,\n",
              "        -0.10849325, -0.33718593, -0.47151394,  0.32904173, -0.21371062,\n",
              "         0.37475293],\n",
              "       [ 0.36378978,  0.016414  ,  0.01880869, -0.03409395, -0.06383884,\n",
              "        -0.0869722 , -0.61063276,  0.3073178 ,  0.60128596,  0.07659344,\n",
              "        -0.13965633]])"
            ]
          },
          "metadata": {},
          "execution_count": 23
        }
      ]
    },
    {
      "cell_type": "code",
      "source": [
        "attr"
      ],
      "metadata": {
        "colab": {
          "base_uri": "https://localhost:8080/",
          "height": 423
        },
        "id": "T2Km7KvJVtdj",
        "outputId": "6e28185f-60ba-4396-9ab5-cc372af61435"
      },
      "execution_count": null,
      "outputs": [
        {
          "output_type": "execute_result",
          "data": {
            "text/plain": [
              "      yummy  convenient  spicy  fattening  greasy  fast  cheap  tasty  \\\n",
              "0         0           1      0          1       0     1      1      0   \n",
              "1         1           1      0          1       1     1      1      1   \n",
              "2         0           1      1          1       1     1      0      1   \n",
              "3         1           1      0          1       1     1      1      1   \n",
              "4         0           1      0          1       1     1      1      0   \n",
              "...     ...         ...    ...        ...     ...   ...    ...    ...   \n",
              "1448      0           1      0          1       1     0      0      0   \n",
              "1449      1           1      0          1       0     0      1      1   \n",
              "1450      1           1      0          1       0     1      0      1   \n",
              "1451      1           1      0          0       0     1      1      1   \n",
              "1452      0           1      0          1       1     0      0      0   \n",
              "\n",
              "      expensive  healthy  disgusting  \n",
              "0             1        0           0  \n",
              "1             1        0           0  \n",
              "2             1        1           0  \n",
              "3             0        0           1  \n",
              "4             0        1           0  \n",
              "...         ...      ...         ...  \n",
              "1448          1        0           1  \n",
              "1449          0        1           0  \n",
              "1450          1        0           0  \n",
              "1451          0        1           0  \n",
              "1452          1        0           1  \n",
              "\n",
              "[1453 rows x 11 columns]"
            ],
            "text/html": [
              "\n",
              "  <div id=\"df-ba0960d5-8fb3-4a3f-a261-d679e438dc94\">\n",
              "    <div class=\"colab-df-container\">\n",
              "      <div>\n",
              "<style scoped>\n",
              "    .dataframe tbody tr th:only-of-type {\n",
              "        vertical-align: middle;\n",
              "    }\n",
              "\n",
              "    .dataframe tbody tr th {\n",
              "        vertical-align: top;\n",
              "    }\n",
              "\n",
              "    .dataframe thead th {\n",
              "        text-align: right;\n",
              "    }\n",
              "</style>\n",
              "<table border=\"1\" class=\"dataframe\">\n",
              "  <thead>\n",
              "    <tr style=\"text-align: right;\">\n",
              "      <th></th>\n",
              "      <th>yummy</th>\n",
              "      <th>convenient</th>\n",
              "      <th>spicy</th>\n",
              "      <th>fattening</th>\n",
              "      <th>greasy</th>\n",
              "      <th>fast</th>\n",
              "      <th>cheap</th>\n",
              "      <th>tasty</th>\n",
              "      <th>expensive</th>\n",
              "      <th>healthy</th>\n",
              "      <th>disgusting</th>\n",
              "    </tr>\n",
              "  </thead>\n",
              "  <tbody>\n",
              "    <tr>\n",
              "      <th>0</th>\n",
              "      <td>0</td>\n",
              "      <td>1</td>\n",
              "      <td>0</td>\n",
              "      <td>1</td>\n",
              "      <td>0</td>\n",
              "      <td>1</td>\n",
              "      <td>1</td>\n",
              "      <td>0</td>\n",
              "      <td>1</td>\n",
              "      <td>0</td>\n",
              "      <td>0</td>\n",
              "    </tr>\n",
              "    <tr>\n",
              "      <th>1</th>\n",
              "      <td>1</td>\n",
              "      <td>1</td>\n",
              "      <td>0</td>\n",
              "      <td>1</td>\n",
              "      <td>1</td>\n",
              "      <td>1</td>\n",
              "      <td>1</td>\n",
              "      <td>1</td>\n",
              "      <td>1</td>\n",
              "      <td>0</td>\n",
              "      <td>0</td>\n",
              "    </tr>\n",
              "    <tr>\n",
              "      <th>2</th>\n",
              "      <td>0</td>\n",
              "      <td>1</td>\n",
              "      <td>1</td>\n",
              "      <td>1</td>\n",
              "      <td>1</td>\n",
              "      <td>1</td>\n",
              "      <td>0</td>\n",
              "      <td>1</td>\n",
              "      <td>1</td>\n",
              "      <td>1</td>\n",
              "      <td>0</td>\n",
              "    </tr>\n",
              "    <tr>\n",
              "      <th>3</th>\n",
              "      <td>1</td>\n",
              "      <td>1</td>\n",
              "      <td>0</td>\n",
              "      <td>1</td>\n",
              "      <td>1</td>\n",
              "      <td>1</td>\n",
              "      <td>1</td>\n",
              "      <td>1</td>\n",
              "      <td>0</td>\n",
              "      <td>0</td>\n",
              "      <td>1</td>\n",
              "    </tr>\n",
              "    <tr>\n",
              "      <th>4</th>\n",
              "      <td>0</td>\n",
              "      <td>1</td>\n",
              "      <td>0</td>\n",
              "      <td>1</td>\n",
              "      <td>1</td>\n",
              "      <td>1</td>\n",
              "      <td>1</td>\n",
              "      <td>0</td>\n",
              "      <td>0</td>\n",
              "      <td>1</td>\n",
              "      <td>0</td>\n",
              "    </tr>\n",
              "    <tr>\n",
              "      <th>...</th>\n",
              "      <td>...</td>\n",
              "      <td>...</td>\n",
              "      <td>...</td>\n",
              "      <td>...</td>\n",
              "      <td>...</td>\n",
              "      <td>...</td>\n",
              "      <td>...</td>\n",
              "      <td>...</td>\n",
              "      <td>...</td>\n",
              "      <td>...</td>\n",
              "      <td>...</td>\n",
              "    </tr>\n",
              "    <tr>\n",
              "      <th>1448</th>\n",
              "      <td>0</td>\n",
              "      <td>1</td>\n",
              "      <td>0</td>\n",
              "      <td>1</td>\n",
              "      <td>1</td>\n",
              "      <td>0</td>\n",
              "      <td>0</td>\n",
              "      <td>0</td>\n",
              "      <td>1</td>\n",
              "      <td>0</td>\n",
              "      <td>1</td>\n",
              "    </tr>\n",
              "    <tr>\n",
              "      <th>1449</th>\n",
              "      <td>1</td>\n",
              "      <td>1</td>\n",
              "      <td>0</td>\n",
              "      <td>1</td>\n",
              "      <td>0</td>\n",
              "      <td>0</td>\n",
              "      <td>1</td>\n",
              "      <td>1</td>\n",
              "      <td>0</td>\n",
              "      <td>1</td>\n",
              "      <td>0</td>\n",
              "    </tr>\n",
              "    <tr>\n",
              "      <th>1450</th>\n",
              "      <td>1</td>\n",
              "      <td>1</td>\n",
              "      <td>0</td>\n",
              "      <td>1</td>\n",
              "      <td>0</td>\n",
              "      <td>1</td>\n",
              "      <td>0</td>\n",
              "      <td>1</td>\n",
              "      <td>1</td>\n",
              "      <td>0</td>\n",
              "      <td>0</td>\n",
              "    </tr>\n",
              "    <tr>\n",
              "      <th>1451</th>\n",
              "      <td>1</td>\n",
              "      <td>1</td>\n",
              "      <td>0</td>\n",
              "      <td>0</td>\n",
              "      <td>0</td>\n",
              "      <td>1</td>\n",
              "      <td>1</td>\n",
              "      <td>1</td>\n",
              "      <td>0</td>\n",
              "      <td>1</td>\n",
              "      <td>0</td>\n",
              "    </tr>\n",
              "    <tr>\n",
              "      <th>1452</th>\n",
              "      <td>0</td>\n",
              "      <td>1</td>\n",
              "      <td>0</td>\n",
              "      <td>1</td>\n",
              "      <td>1</td>\n",
              "      <td>0</td>\n",
              "      <td>0</td>\n",
              "      <td>0</td>\n",
              "      <td>1</td>\n",
              "      <td>0</td>\n",
              "      <td>1</td>\n",
              "    </tr>\n",
              "  </tbody>\n",
              "</table>\n",
              "<p>1453 rows × 11 columns</p>\n",
              "</div>\n",
              "      <button class=\"colab-df-convert\" onclick=\"convertToInteractive('df-ba0960d5-8fb3-4a3f-a261-d679e438dc94')\"\n",
              "              title=\"Convert this dataframe to an interactive table.\"\n",
              "              style=\"display:none;\">\n",
              "        \n",
              "  <svg xmlns=\"http://www.w3.org/2000/svg\" height=\"24px\"viewBox=\"0 0 24 24\"\n",
              "       width=\"24px\">\n",
              "    <path d=\"M0 0h24v24H0V0z\" fill=\"none\"/>\n",
              "    <path d=\"M18.56 5.44l.94 2.06.94-2.06 2.06-.94-2.06-.94-.94-2.06-.94 2.06-2.06.94zm-11 1L8.5 8.5l.94-2.06 2.06-.94-2.06-.94L8.5 2.5l-.94 2.06-2.06.94zm10 10l.94 2.06.94-2.06 2.06-.94-2.06-.94-.94-2.06-.94 2.06-2.06.94z\"/><path d=\"M17.41 7.96l-1.37-1.37c-.4-.4-.92-.59-1.43-.59-.52 0-1.04.2-1.43.59L10.3 9.45l-7.72 7.72c-.78.78-.78 2.05 0 2.83L4 21.41c.39.39.9.59 1.41.59.51 0 1.02-.2 1.41-.59l7.78-7.78 2.81-2.81c.8-.78.8-2.07 0-2.86zM5.41 20L4 18.59l7.72-7.72 1.47 1.35L5.41 20z\"/>\n",
              "  </svg>\n",
              "      </button>\n",
              "      \n",
              "  <style>\n",
              "    .colab-df-container {\n",
              "      display:flex;\n",
              "      flex-wrap:wrap;\n",
              "      gap: 12px;\n",
              "    }\n",
              "\n",
              "    .colab-df-convert {\n",
              "      background-color: #E8F0FE;\n",
              "      border: none;\n",
              "      border-radius: 50%;\n",
              "      cursor: pointer;\n",
              "      display: none;\n",
              "      fill: #1967D2;\n",
              "      height: 32px;\n",
              "      padding: 0 0 0 0;\n",
              "      width: 32px;\n",
              "    }\n",
              "\n",
              "    .colab-df-convert:hover {\n",
              "      background-color: #E2EBFA;\n",
              "      box-shadow: 0px 1px 2px rgba(60, 64, 67, 0.3), 0px 1px 3px 1px rgba(60, 64, 67, 0.15);\n",
              "      fill: #174EA6;\n",
              "    }\n",
              "\n",
              "    [theme=dark] .colab-df-convert {\n",
              "      background-color: #3B4455;\n",
              "      fill: #D2E3FC;\n",
              "    }\n",
              "\n",
              "    [theme=dark] .colab-df-convert:hover {\n",
              "      background-color: #434B5C;\n",
              "      box-shadow: 0px 1px 3px 1px rgba(0, 0, 0, 0.15);\n",
              "      filter: drop-shadow(0px 1px 2px rgba(0, 0, 0, 0.3));\n",
              "      fill: #FFFFFF;\n",
              "    }\n",
              "  </style>\n",
              "\n",
              "      <script>\n",
              "        const buttonEl =\n",
              "          document.querySelector('#df-ba0960d5-8fb3-4a3f-a261-d679e438dc94 button.colab-df-convert');\n",
              "        buttonEl.style.display =\n",
              "          google.colab.kernel.accessAllowed ? 'block' : 'none';\n",
              "\n",
              "        async function convertToInteractive(key) {\n",
              "          const element = document.querySelector('#df-ba0960d5-8fb3-4a3f-a261-d679e438dc94');\n",
              "          const dataTable =\n",
              "            await google.colab.kernel.invokeFunction('convertToInteractive',\n",
              "                                                     [key], {});\n",
              "          if (!dataTable) return;\n",
              "\n",
              "          const docLinkHtml = 'Like what you see? Visit the ' +\n",
              "            '<a target=\"_blank\" href=https://colab.research.google.com/notebooks/data_table.ipynb>data table notebook</a>'\n",
              "            + ' to learn more about interactive tables.';\n",
              "          element.innerHTML = '';\n",
              "          dataTable['output_type'] = 'display_data';\n",
              "          await google.colab.output.renderOutput(dataTable, element);\n",
              "          const docLink = document.createElement('div');\n",
              "          docLink.innerHTML = docLinkHtml;\n",
              "          element.appendChild(docLink);\n",
              "        }\n",
              "      </script>\n",
              "    </div>\n",
              "  </div>\n",
              "  "
            ]
          },
          "metadata": {},
          "execution_count": 38
        }
      ]
    },
    {
      "cell_type": "code",
      "source": [
        "inertias"
      ],
      "metadata": {
        "colab": {
          "base_uri": "https://localhost:8080/"
        },
        "id": "mNAW8EqaPek7",
        "outputId": "6ded16ec-5476-4980-c8dc-664112cb42b0"
      },
      "execution_count": 17,
      "outputs": [
        {
          "output_type": "execute_result",
          "data": {
            "text/plain": [
              "[2145.5037269171667,\n",
              " 1818.7143021542415,\n",
              " 1603.4601014556802,\n",
              " 1434.8765972690626,\n",
              " 1330.0752254320869,\n",
              " 1253.704699348279]"
            ]
          },
          "metadata": {},
          "execution_count": 17
        }
      ]
    },
    {
      "cell_type": "code",
      "source": [
        "from sklearn.cluster import KMeans\n",
        "\n",
        "inertias = []\n",
        "kmeans = {}\n",
        "\n",
        "for i in range(2,8):\n",
        "    kmeans[i] = KMeans(n_clusters=i)\n",
        "    kmeans[i].fit(attr)\n",
        "    inertias.append(kmeans[i].inertia_)\n",
        "\n",
        "plt.plot(range(2,8), inertias, marker='o')\n",
        "plt.title('Elbow method')\n",
        "plt.xlabel('Number of clusters')\n",
        "plt.ylabel('Sum of within cluster distances (Inertia)')\n",
        "plt.show()"
      ],
      "metadata": {
        "id": "YiSPySL8pWwA",
        "colab": {
          "base_uri": "https://localhost:8080/",
          "height": 301
        },
        "outputId": "9225c5e7-5d57-40b4-96a2-770294e35c20"
      },
      "execution_count": 23,
      "outputs": [
        {
          "output_type": "display_data",
          "data": {
            "text/plain": [
              "<Figure size 432x288 with 1 Axes>"
            ],
            "image/png": "[encoded data removed]"
          },
          "metadata": {}
        }
      ]
    },
    {
      "cell_type": "code",
      "source": [
        "pca_df_scaled['segment'] = kmeans[4].labels_"
      ],
      "metadata": {
        "id": "NlOfacJETGMI"
      },
      "execution_count": 30,
      "outputs": []
    },
    {
      "cell_type": "code",
      "source": [
        "len(kmeans[4].labels_)"
      ],
      "metadata": {
        "colab": {
          "base_uri": "https://localhost:8080/"
        },
        "id": "js0V8fcAQ4rM",
        "outputId": "6df5fba9-5c34-4537-ffdd-add534fd67c0"
      },
      "execution_count": 29,
      "outputs": [
        {
          "output_type": "execute_result",
          "data": {
            "text/plain": [
              "1453"
            ]
          },
          "metadata": {},
          "execution_count": 29
        }
      ]
    },
    {
      "cell_type": "code",
      "source": [
        "sns.lmplot(\n",
        "    x='PC1', \n",
        "    y='PC2', \n",
        "    data=pca_df_scaled, \n",
        "    hue = 'segment',\n",
        "    fit_reg=False, \n",
        "    )\n",
        "\n",
        "for i, varnames in enumerate(features):\n",
        "    # plt.scatter(xs[i], ys[i], s=200)\n",
        "    plt.arrow(\n",
        "        0, 0, # coordinates of arrow base\n",
        "        xs[i], # length of the arrow along x\n",
        "        ys[i], # length of the arrow along y\n",
        "        color='r', \n",
        "        head_width=0.01\n",
        "        )\n",
        "    plt.text(xs[i], ys[i], varnames)\n",
        "plt.title('with segmentation')\n",
        "plt.show()"
      ],
      "metadata": {
        "colab": {
          "base_uri": "https://localhost:8080/",
          "height": 377
        },
        "id": "0REz3H6GR35E",
        "outputId": "fd96bba1-c185-4d59-bb6e-c221314579d3"
      },
      "execution_count": 31,
      "outputs": [
        {
          "output_type": "display_data",
          "data": {
            "text/plain": [
              "<Figure size 421.675x360 with 1 Axes>"
            ],
            "image/png": "[encoded data removed]"
          },
          "metadata": {}
        }
      ]
    },
    {
      "cell_type": "code",
      "source": [],
      "metadata": {
        "id": "LEeMmBNSPsdo"
      },
      "execution_count": 32,
      "outputs": []
    },
    {
      "cell_type": "code",
      "source": [],
      "metadata": {
        "colab": {
          "base_uri": "https://localhost:8080/"
        },
        "id": "viAUtgitfaiQ",
        "outputId": "40b52e91-b2b0-456d-879b-ab6a54bbb2f6"
      },
      "execution_count": 81,
      "outputs": [
        {
          "output_type": "execute_result",
          "data": {
            "text/plain": [
              "array(['Female', 'Male'], dtype=object)"
            ]
          },
          "metadata": {},
          "execution_count": 81
        }
      ]
    },
    {
      "cell_type": "code",
      "source": [
        "mosaic_df = mcd.copy()\n",
        "mosaic_df['segment'] = kmeans[4].labels_"
      ],
      "metadata": {
        "id": "srkEQyLKWM0b"
      },
      "execution_count": 82,
      "outputs": []
    },
    {
      "cell_type": "code",
      "source": [
        "mosaic(mosaic_df,['segment','Gender'])\n",
        "plt.show()"
      ],
      "metadata": {
        "id": "qUQ2Ptz8ozWV"
      },
      "execution_count": null,
      "outputs": []
    },
    {
      "cell_type": "code",
      "source": [
        "mosaic_df['Like'] = mosaic_df['Like'].replace(['I love it!+5', 'I hate it!-5'],['+5','-5'])\n",
        "mosaic_df['Like'] = mosaic_df['Like'].astype(int)"
      ],
      "metadata": {
        "id": "-iX5dmThWUcI"
      },
      "execution_count": 83,
      "outputs": []
    },
    {
      "cell_type": "code",
      "source": [
        "mosaic_df['Gender'] = mosaic_df['Gender'].replace(['Female', 'Male'],[1,0])"
      ],
      "metadata": {
        "id": "iTjL2Jv2aJk2"
      },
      "execution_count": 84,
      "outputs": []
    },
    {
      "cell_type": "code",
      "source": [
        "visit_numeric = [3 ,5 ,4 ,2 ,6 ,1 ]\n",
        "# [2 ,4 ,3 ,1 ,5 ,0 ]\n",
        "# [3 ,5 ,4 ,2 ,6 ,1 ]\n",
        "mosaic_df['VisitFrequency'] = mosaic_df['VisitFrequency'].replace(['Every three months', 'Once a week', 'Once a month', 'Once a year','More than once a week', 'Never'], \n",
        "                                                                  visit_numeric)"
      ],
      "metadata": {
        "id": "vPS5lxzEZTgK"
      },
      "execution_count": 85,
      "outputs": []
    },
    {
      "cell_type": "code",
      "source": [
        "segment_eval_plot_df = mosaic_df.loc[:,['Like','VisitFrequency','Gender','segment']]"
      ],
      "metadata": {
        "id": "jQmCpDGGax1A"
      },
      "execution_count": 86,
      "outputs": []
    },
    {
      "cell_type": "code",
      "source": [
        "a = segment_eval_plot_df.groupby(['segment']).mean()\n"
      ],
      "metadata": {
        "id": "0ceOyLPbbrpd"
      },
      "execution_count": 120,
      "outputs": []
    },
    {
      "cell_type": "code",
      "source": [
        "a['segment'] = ['red','green','blue', 'pink']\n"
      ],
      "metadata": {
        "id": "ZYJUPAfZhXl4"
      },
      "execution_count": 128,
      "outputs": []
    },
    {
      "cell_type": "code",
      "source": [
        "a['Gender'] = a['Gender'] * 1000"
      ],
      "metadata": {
        "id": "ENZvd__QiOQn"
      },
      "execution_count": 121,
      "outputs": []
    },
    {
      "cell_type": "code",
      "source": [
        "plt.scatter('VisitFrequency', 'Like', \n",
        "             s='Gender', c = 'segment',\n",
        "             alpha=0.8, \n",
        "             data=a)\n",
        "plt.xlabel(\"visit\")\n",
        "plt.ylabel(\"like\")\n",
        "plt.title(\"Segment Evaluation Plot\")\n",
        "plt.show()"
      ],
      "metadata": {
        "colab": {
          "base_uri": "https://localhost:8080/",
          "height": 301
        },
        "id": "0WK_qTEndNKm",
        "outputId": "daf7542b-35f3-4da1-e1b8-6a3a8b05bfdb"
      },
      "execution_count": 130,
      "outputs": [
        {
          "output_type": "display_data",
          "data": {
            "text/plain": [
              "<Figure size 432x288 with 1 Axes>"
            ],
            "image/png": "[encoded data removed]"
          },
          "metadata": {}
        }
      ]
    },
    {
      "cell_type": "code",
      "source": [],
      "metadata": {
        "id": "fNC5gMvVqxLx",
        "colab": {
          "base_uri": "https://localhost:8080/",
          "height": 274
        },
        "outputId": "ba3216d6-a27d-4d48-ea0b-a57fd87692ef"
      },
      "execution_count": 41,
      "outputs": [
        {
          "output_type": "display_data",
          "data": {
            "text/plain": [
              "<Figure size 432x288 with 3 Axes>"
            ],
            "image/png": "[encoded data removed]"
          },
          "metadata": {}
        }
      ]
    }
  ]
}